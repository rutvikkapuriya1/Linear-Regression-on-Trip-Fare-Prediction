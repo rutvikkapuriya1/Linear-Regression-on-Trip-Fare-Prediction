{
 "cells": [
  {
   "cell_type": "code",
   "execution_count": 24,
   "id": "c4c2c3bd",
   "metadata": {},
   "outputs": [],
   "source": [
    "import pandas as pd\n",
    "import numpy as np\n",
    "import matplotlib.pyplot as plt\n",
    "import plotly.express as px\n",
    "import pandas as pd\n",
    "import numpy as np\n",
    "from xgboost import XGBRFRegressor\n",
    "from sklearn.model_selection import train_test_split,cross_val_score\n",
    "from statsmodels.stats.outliers_influence import variance_inflation_factor\n",
    "from sklearn.linear_model import LinearRegression\n",
    "from sklearn.metrics import mean_squared_error,mean_absolute_percentage_error,mean_squared_log_error\n",
    "import statsmodels.api as sm\n",
    "from sklearn.tree import DecisionTreeRegressor\n",
    "from sklearn.ensemble import RandomForestRegressor\n",
    "from sklearn.metrics import r2_score\n",
    "import seaborn as sns\n"
   ]
  },
  {
   "cell_type": "code",
   "execution_count": 25,
   "id": "8a1c6d46",
   "metadata": {
    "scrolled": true
   },
   "outputs": [
    {
     "data": {
      "text/html": [
       "<div>\n",
       "<style scoped>\n",
       "    .dataframe tbody tr th:only-of-type {\n",
       "        vertical-align: middle;\n",
       "    }\n",
       "\n",
       "    .dataframe tbody tr th {\n",
       "        vertical-align: top;\n",
       "    }\n",
       "\n",
       "    .dataframe thead th {\n",
       "        text-align: right;\n",
       "    }\n",
       "</style>\n",
       "<table border=\"1\" class=\"dataframe\">\n",
       "  <thead>\n",
       "    <tr style=\"text-align: right;\">\n",
       "      <th></th>\n",
       "      <th>trip_duration</th>\n",
       "      <th>distance_traveled</th>\n",
       "      <th>num_of_passengers</th>\n",
       "      <th>fare</th>\n",
       "      <th>tip</th>\n",
       "      <th>miscellaneous_fees</th>\n",
       "      <th>surge_applied</th>\n",
       "    </tr>\n",
       "  </thead>\n",
       "  <tbody>\n",
       "    <tr>\n",
       "      <th>0</th>\n",
       "      <td>748</td>\n",
       "      <td>2.75</td>\n",
       "      <td>1</td>\n",
       "      <td>75.00</td>\n",
       "      <td>24</td>\n",
       "      <td>6.300</td>\n",
       "      <td>0</td>\n",
       "    </tr>\n",
       "    <tr>\n",
       "      <th>1</th>\n",
       "      <td>1187</td>\n",
       "      <td>3.43</td>\n",
       "      <td>1</td>\n",
       "      <td>105.00</td>\n",
       "      <td>24</td>\n",
       "      <td>13.200</td>\n",
       "      <td>0</td>\n",
       "    </tr>\n",
       "    <tr>\n",
       "      <th>2</th>\n",
       "      <td>730</td>\n",
       "      <td>3.12</td>\n",
       "      <td>1</td>\n",
       "      <td>71.25</td>\n",
       "      <td>0</td>\n",
       "      <td>26.625</td>\n",
       "      <td>1</td>\n",
       "    </tr>\n",
       "    <tr>\n",
       "      <th>3</th>\n",
       "      <td>671</td>\n",
       "      <td>5.63</td>\n",
       "      <td>3</td>\n",
       "      <td>90.00</td>\n",
       "      <td>0</td>\n",
       "      <td>9.750</td>\n",
       "      <td>0</td>\n",
       "    </tr>\n",
       "    <tr>\n",
       "      <th>4</th>\n",
       "      <td>329</td>\n",
       "      <td>2.09</td>\n",
       "      <td>1</td>\n",
       "      <td>45.00</td>\n",
       "      <td>12</td>\n",
       "      <td>13.200</td>\n",
       "      <td>0</td>\n",
       "    </tr>\n",
       "  </tbody>\n",
       "</table>\n",
       "</div>"
      ],
      "text/plain": [
       "   trip_duration  distance_traveled  num_of_passengers    fare  tip  \\\n",
       "0            748               2.75                  1   75.00   24   \n",
       "1           1187               3.43                  1  105.00   24   \n",
       "2            730               3.12                  1   71.25    0   \n",
       "3            671               5.63                  3   90.00    0   \n",
       "4            329               2.09                  1   45.00   12   \n",
       "\n",
       "   miscellaneous_fees  surge_applied  \n",
       "0               6.300              0  \n",
       "1              13.200              0  \n",
       "2              26.625              1  \n",
       "3               9.750              0  \n",
       "4              13.200              0  "
      ]
     },
     "execution_count": 25,
     "metadata": {},
     "output_type": "execute_result"
    }
   ],
   "source": [
    "# Load the data\n",
    "df = pd.read_csv(\"train.csv\")\n",
    "df.head()"
   ]
  },
  {
   "cell_type": "markdown",
   "id": "f1d779b3",
   "metadata": {},
   "source": [
    "- 'trip_duration': How long did the journey last?[in Seconds]\n",
    "\n",
    "- 'distance_traveled': How far did the taxi travel?[in Km]\n",
    "\n",
    "- 'num_of_passengers': How many passengers were in the taxi?\n",
    "\n",
    "- 'fare': What's the base fare for the journey?[In INR]\n",
    "\n",
    "- 'tip': How much did the driver receive in tips?[In INR]\n",
    "\n",
    "- 'miscellaneous_fees': Were there any additional charges during the trip?e.g. tolls, convenience fees, GST etc.[In INR]\n",
    "\n",
    "- 'total_fare': The grand total for the ride (this is your prediction target!).[In INR]\n",
    "\n",
    "- 'surge_applied': Was there a surge pricing applied? Yes or no?"
   ]
  },
  {
   "cell_type": "code",
   "execution_count": 26,
   "id": "b82d53da",
   "metadata": {},
   "outputs": [
    {
     "data": {
      "text/plain": [
       "(209673, 7)"
      ]
     },
     "execution_count": 26,
     "metadata": {},
     "output_type": "execute_result"
    }
   ],
   "source": [
    "df.shape"
   ]
  },
  {
   "cell_type": "code",
   "execution_count": 27,
   "id": "291c592f",
   "metadata": {},
   "outputs": [
    {
     "name": "stdout",
     "output_type": "stream",
     "text": [
      "<class 'pandas.core.frame.DataFrame'>\n",
      "RangeIndex: 209673 entries, 0 to 209672\n",
      "Data columns (total 7 columns):\n",
      " #   Column              Non-Null Count   Dtype  \n",
      "---  ------              --------------   -----  \n",
      " 0   trip_duration       209673 non-null  int64  \n",
      " 1   distance_traveled   209673 non-null  float64\n",
      " 2   num_of_passengers   209673 non-null  int64  \n",
      " 3   fare                209673 non-null  float64\n",
      " 4   tip                 209673 non-null  int64  \n",
      " 5   miscellaneous_fees  209673 non-null  float64\n",
      " 6   surge_applied       209673 non-null  int64  \n",
      "dtypes: float64(3), int64(4)\n",
      "memory usage: 11.2 MB\n"
     ]
    }
   ],
   "source": [
    "# This code checks the type of the train variable\n",
    "df.info()"
   ]
  },
  {
   "cell_type": "code",
   "execution_count": 28,
   "id": "3c897ad7",
   "metadata": {},
   "outputs": [
    {
     "data": {
      "text/html": [
       "<div>\n",
       "<style scoped>\n",
       "    .dataframe tbody tr th:only-of-type {\n",
       "        vertical-align: middle;\n",
       "    }\n",
       "\n",
       "    .dataframe tbody tr th {\n",
       "        vertical-align: top;\n",
       "    }\n",
       "\n",
       "    .dataframe thead th {\n",
       "        text-align: right;\n",
       "    }\n",
       "</style>\n",
       "<table border=\"1\" class=\"dataframe\">\n",
       "  <thead>\n",
       "    <tr style=\"text-align: right;\">\n",
       "      <th></th>\n",
       "      <th>trip_duration</th>\n",
       "      <th>distance_traveled</th>\n",
       "      <th>num_of_passengers</th>\n",
       "      <th>fare</th>\n",
       "      <th>tip</th>\n",
       "      <th>miscellaneous_fees</th>\n",
       "      <th>surge_applied</th>\n",
       "    </tr>\n",
       "  </thead>\n",
       "  <tbody>\n",
       "    <tr>\n",
       "      <th>count</th>\n",
       "      <td>209673.000000</td>\n",
       "      <td>209673.000000</td>\n",
       "      <td>209673.000000</td>\n",
       "      <td>209673.000000</td>\n",
       "      <td>209673.000000</td>\n",
       "      <td>209673.000000</td>\n",
       "      <td>209673.000000</td>\n",
       "    </tr>\n",
       "    <tr>\n",
       "      <th>mean</th>\n",
       "      <td>1173.181478</td>\n",
       "      <td>5.054431</td>\n",
       "      <td>1.292808</td>\n",
       "      <td>99.623431</td>\n",
       "      <td>13.030824</td>\n",
       "      <td>15.136829</td>\n",
       "      <td>0.280523</td>\n",
       "    </tr>\n",
       "    <tr>\n",
       "      <th>std</th>\n",
       "      <td>4775.653621</td>\n",
       "      <td>125.217419</td>\n",
       "      <td>0.930754</td>\n",
       "      <td>85.602702</td>\n",
       "      <td>20.367764</td>\n",
       "      <td>12.553436</td>\n",
       "      <td>0.449256</td>\n",
       "    </tr>\n",
       "    <tr>\n",
       "      <th>min</th>\n",
       "      <td>0.000000</td>\n",
       "      <td>0.020000</td>\n",
       "      <td>0.000000</td>\n",
       "      <td>0.000000</td>\n",
       "      <td>0.000000</td>\n",
       "      <td>-0.500000</td>\n",
       "      <td>0.000000</td>\n",
       "    </tr>\n",
       "    <tr>\n",
       "      <th>25%</th>\n",
       "      <td>446.000000</td>\n",
       "      <td>1.950000</td>\n",
       "      <td>1.000000</td>\n",
       "      <td>52.500000</td>\n",
       "      <td>0.000000</td>\n",
       "      <td>6.000000</td>\n",
       "      <td>0.000000</td>\n",
       "    </tr>\n",
       "    <tr>\n",
       "      <th>50%</th>\n",
       "      <td>707.000000</td>\n",
       "      <td>3.200000</td>\n",
       "      <td>1.000000</td>\n",
       "      <td>75.000000</td>\n",
       "      <td>9.000000</td>\n",
       "      <td>9.750000</td>\n",
       "      <td>0.000000</td>\n",
       "    </tr>\n",
       "    <tr>\n",
       "      <th>75%</th>\n",
       "      <td>1098.000000</td>\n",
       "      <td>5.730000</td>\n",
       "      <td>1.000000</td>\n",
       "      <td>116.250000</td>\n",
       "      <td>20.000000</td>\n",
       "      <td>26.450000</td>\n",
       "      <td>1.000000</td>\n",
       "    </tr>\n",
       "    <tr>\n",
       "      <th>max</th>\n",
       "      <td>86387.000000</td>\n",
       "      <td>57283.910000</td>\n",
       "      <td>9.000000</td>\n",
       "      <td>4466.250000</td>\n",
       "      <td>2500.000000</td>\n",
       "      <td>435.000000</td>\n",
       "      <td>1.000000</td>\n",
       "    </tr>\n",
       "  </tbody>\n",
       "</table>\n",
       "</div>"
      ],
      "text/plain": [
       "       trip_duration  distance_traveled  num_of_passengers           fare  \\\n",
       "count  209673.000000      209673.000000      209673.000000  209673.000000   \n",
       "mean     1173.181478           5.054431           1.292808      99.623431   \n",
       "std      4775.653621         125.217419           0.930754      85.602702   \n",
       "min         0.000000           0.020000           0.000000       0.000000   \n",
       "25%       446.000000           1.950000           1.000000      52.500000   \n",
       "50%       707.000000           3.200000           1.000000      75.000000   \n",
       "75%      1098.000000           5.730000           1.000000     116.250000   \n",
       "max     86387.000000       57283.910000           9.000000    4466.250000   \n",
       "\n",
       "                 tip  miscellaneous_fees  surge_applied  \n",
       "count  209673.000000       209673.000000  209673.000000  \n",
       "mean       13.030824           15.136829       0.280523  \n",
       "std        20.367764           12.553436       0.449256  \n",
       "min         0.000000           -0.500000       0.000000  \n",
       "25%         0.000000            6.000000       0.000000  \n",
       "50%         9.000000            9.750000       0.000000  \n",
       "75%        20.000000           26.450000       1.000000  \n",
       "max      2500.000000          435.000000       1.000000  "
      ]
     },
     "execution_count": 28,
     "metadata": {},
     "output_type": "execute_result"
    }
   ],
   "source": [
    "# This code describes the training data\n",
    "df.describe()"
   ]
  },
  {
   "cell_type": "code",
   "execution_count": 29,
   "id": "2c29b5d0",
   "metadata": {},
   "outputs": [
    {
     "data": {
      "text/html": [
       "<div>\n",
       "<style scoped>\n",
       "    .dataframe tbody tr th:only-of-type {\n",
       "        vertical-align: middle;\n",
       "    }\n",
       "\n",
       "    .dataframe tbody tr th {\n",
       "        vertical-align: top;\n",
       "    }\n",
       "\n",
       "    .dataframe thead th {\n",
       "        text-align: right;\n",
       "    }\n",
       "</style>\n",
       "<table border=\"1\" class=\"dataframe\">\n",
       "  <thead>\n",
       "    <tr style=\"text-align: right;\">\n",
       "      <th></th>\n",
       "      <th>trip_duration</th>\n",
       "      <th>distance_traveled</th>\n",
       "      <th>num_of_passengers</th>\n",
       "      <th>fare</th>\n",
       "      <th>tip</th>\n",
       "      <th>miscellaneous_fees</th>\n",
       "      <th>surge_applied</th>\n",
       "    </tr>\n",
       "  </thead>\n",
       "  <tbody>\n",
       "    <tr>\n",
       "      <th>trip_duration</th>\n",
       "      <td>1.000000</td>\n",
       "      <td>0.005774</td>\n",
       "      <td>-0.001477</td>\n",
       "      <td>0.150331</td>\n",
       "      <td>0.029132</td>\n",
       "      <td>0.046432</td>\n",
       "      <td>0.029961</td>\n",
       "    </tr>\n",
       "    <tr>\n",
       "      <th>distance_traveled</th>\n",
       "      <td>0.005774</td>\n",
       "      <td>1.000000</td>\n",
       "      <td>-0.000299</td>\n",
       "      <td>0.035934</td>\n",
       "      <td>0.013487</td>\n",
       "      <td>0.021734</td>\n",
       "      <td>0.005567</td>\n",
       "    </tr>\n",
       "    <tr>\n",
       "      <th>num_of_passengers</th>\n",
       "      <td>-0.001477</td>\n",
       "      <td>-0.000299</td>\n",
       "      <td>1.000000</td>\n",
       "      <td>0.013224</td>\n",
       "      <td>0.007277</td>\n",
       "      <td>0.010044</td>\n",
       "      <td>0.006360</td>\n",
       "    </tr>\n",
       "    <tr>\n",
       "      <th>fare</th>\n",
       "      <td>0.150331</td>\n",
       "      <td>0.035934</td>\n",
       "      <td>0.013224</td>\n",
       "      <td>1.000000</td>\n",
       "      <td>0.302044</td>\n",
       "      <td>0.299321</td>\n",
       "      <td>0.146687</td>\n",
       "    </tr>\n",
       "    <tr>\n",
       "      <th>tip</th>\n",
       "      <td>0.029132</td>\n",
       "      <td>0.013487</td>\n",
       "      <td>0.007277</td>\n",
       "      <td>0.302044</td>\n",
       "      <td>1.000000</td>\n",
       "      <td>0.320919</td>\n",
       "      <td>0.239334</td>\n",
       "    </tr>\n",
       "    <tr>\n",
       "      <th>miscellaneous_fees</th>\n",
       "      <td>0.046432</td>\n",
       "      <td>0.021734</td>\n",
       "      <td>0.010044</td>\n",
       "      <td>0.299321</td>\n",
       "      <td>0.320919</td>\n",
       "      <td>1.000000</td>\n",
       "      <td>0.715497</td>\n",
       "    </tr>\n",
       "    <tr>\n",
       "      <th>surge_applied</th>\n",
       "      <td>0.029961</td>\n",
       "      <td>0.005567</td>\n",
       "      <td>0.006360</td>\n",
       "      <td>0.146687</td>\n",
       "      <td>0.239334</td>\n",
       "      <td>0.715497</td>\n",
       "      <td>1.000000</td>\n",
       "    </tr>\n",
       "  </tbody>\n",
       "</table>\n",
       "</div>"
      ],
      "text/plain": [
       "                    trip_duration  distance_traveled  num_of_passengers  \\\n",
       "trip_duration            1.000000           0.005774          -0.001477   \n",
       "distance_traveled        0.005774           1.000000          -0.000299   \n",
       "num_of_passengers       -0.001477          -0.000299           1.000000   \n",
       "fare                     0.150331           0.035934           0.013224   \n",
       "tip                      0.029132           0.013487           0.007277   \n",
       "miscellaneous_fees       0.046432           0.021734           0.010044   \n",
       "surge_applied            0.029961           0.005567           0.006360   \n",
       "\n",
       "                        fare       tip  miscellaneous_fees  surge_applied  \n",
       "trip_duration       0.150331  0.029132            0.046432       0.029961  \n",
       "distance_traveled   0.035934  0.013487            0.021734       0.005567  \n",
       "num_of_passengers   0.013224  0.007277            0.010044       0.006360  \n",
       "fare                1.000000  0.302044            0.299321       0.146687  \n",
       "tip                 0.302044  1.000000            0.320919       0.239334  \n",
       "miscellaneous_fees  0.299321  0.320919            1.000000       0.715497  \n",
       "surge_applied       0.146687  0.239334            0.715497       1.000000  "
      ]
     },
     "execution_count": 29,
     "metadata": {},
     "output_type": "execute_result"
    }
   ],
   "source": [
    "df.corr()"
   ]
  },
  {
   "cell_type": "code",
   "execution_count": 30,
   "id": "c4a6ea2d",
   "metadata": {},
   "outputs": [
    {
     "data": {
      "text/plain": [
       "(209673, 7)"
      ]
     },
     "execution_count": 30,
     "metadata": {},
     "output_type": "execute_result"
    }
   ],
   "source": [
    "df.shape"
   ]
  },
  {
   "cell_type": "markdown",
   "id": "4441c180",
   "metadata": {},
   "source": [
    "### Checked Assumptions of Linear Regression"
   ]
  },
  {
   "cell_type": "markdown",
   "id": "8b1e5f6b",
   "metadata": {},
   "source": [
    "### 1) Checked Multicolinearity"
   ]
  },
  {
   "cell_type": "code",
   "execution_count": 31,
   "id": "22864770",
   "metadata": {},
   "outputs": [
    {
     "name": "stdout",
     "output_type": "stream",
     "text": [
      "              Feature       VIF\n",
      "0       trip_duration  1.084038\n",
      "1   distance_traveled  1.003149\n",
      "2   num_of_passengers  1.857478\n",
      "3                fare  2.521444\n",
      "4                 tip  1.657926\n",
      "5  miscellaneous_fees  4.919332\n",
      "6       surge_applied  2.843864\n"
     ]
    }
   ],
   "source": [
    "import pandas as pd\n",
    "from statsmodels.stats.outliers_influence import variance_inflation_factor\n",
    "\n",
    "# Select all columns for VIF calculation\n",
    "columns_for_vif = df.columns\n",
    "\n",
    "# Create a DataFrame to store the VIF results\n",
    "vif_data = pd.DataFrame()\n",
    "vif_data['Feature'] = columns_for_vif\n",
    "vif_data['VIF'] = [variance_inflation_factor(df.values, i) for i in range(len(columns_for_vif))]\n",
    "\n",
    "# Print the VIF results\n",
    "print(vif_data)"
   ]
  },
  {
   "cell_type": "code",
   "execution_count": 32,
   "id": "fe5eeffb",
   "metadata": {},
   "outputs": [
    {
     "data": {
      "text/html": [
       "<div>\n",
       "<style scoped>\n",
       "    .dataframe tbody tr th:only-of-type {\n",
       "        vertical-align: middle;\n",
       "    }\n",
       "\n",
       "    .dataframe tbody tr th {\n",
       "        vertical-align: top;\n",
       "    }\n",
       "\n",
       "    .dataframe thead th {\n",
       "        text-align: right;\n",
       "    }\n",
       "</style>\n",
       "<table border=\"1\" class=\"dataframe\">\n",
       "  <thead>\n",
       "    <tr style=\"text-align: right;\">\n",
       "      <th></th>\n",
       "      <th>trip_duration</th>\n",
       "      <th>distance_traveled</th>\n",
       "      <th>num_of_passengers</th>\n",
       "      <th>fare</th>\n",
       "      <th>tip</th>\n",
       "      <th>miscellaneous_fees</th>\n",
       "      <th>surge_applied</th>\n",
       "    </tr>\n",
       "  </thead>\n",
       "  <tbody>\n",
       "    <tr>\n",
       "      <th>0</th>\n",
       "      <td>748</td>\n",
       "      <td>2.75</td>\n",
       "      <td>1</td>\n",
       "      <td>75.00</td>\n",
       "      <td>24</td>\n",
       "      <td>6.300</td>\n",
       "      <td>0</td>\n",
       "    </tr>\n",
       "    <tr>\n",
       "      <th>1</th>\n",
       "      <td>1187</td>\n",
       "      <td>3.43</td>\n",
       "      <td>1</td>\n",
       "      <td>105.00</td>\n",
       "      <td>24</td>\n",
       "      <td>13.200</td>\n",
       "      <td>0</td>\n",
       "    </tr>\n",
       "    <tr>\n",
       "      <th>2</th>\n",
       "      <td>730</td>\n",
       "      <td>3.12</td>\n",
       "      <td>1</td>\n",
       "      <td>71.25</td>\n",
       "      <td>0</td>\n",
       "      <td>26.625</td>\n",
       "      <td>1</td>\n",
       "    </tr>\n",
       "    <tr>\n",
       "      <th>3</th>\n",
       "      <td>671</td>\n",
       "      <td>5.63</td>\n",
       "      <td>3</td>\n",
       "      <td>90.00</td>\n",
       "      <td>0</td>\n",
       "      <td>9.750</td>\n",
       "      <td>0</td>\n",
       "    </tr>\n",
       "    <tr>\n",
       "      <th>4</th>\n",
       "      <td>329</td>\n",
       "      <td>2.09</td>\n",
       "      <td>1</td>\n",
       "      <td>45.00</td>\n",
       "      <td>12</td>\n",
       "      <td>13.200</td>\n",
       "      <td>0</td>\n",
       "    </tr>\n",
       "    <tr>\n",
       "      <th>...</th>\n",
       "      <td>...</td>\n",
       "      <td>...</td>\n",
       "      <td>...</td>\n",
       "      <td>...</td>\n",
       "      <td>...</td>\n",
       "      <td>...</td>\n",
       "      <td>...</td>\n",
       "    </tr>\n",
       "    <tr>\n",
       "      <th>209668</th>\n",
       "      <td>1617</td>\n",
       "      <td>8.42</td>\n",
       "      <td>1</td>\n",
       "      <td>150.00</td>\n",
       "      <td>47</td>\n",
       "      <td>5.800</td>\n",
       "      <td>0</td>\n",
       "    </tr>\n",
       "    <tr>\n",
       "      <th>209669</th>\n",
       "      <td>438</td>\n",
       "      <td>1.29</td>\n",
       "      <td>1</td>\n",
       "      <td>48.75</td>\n",
       "      <td>12</td>\n",
       "      <td>34.575</td>\n",
       "      <td>1</td>\n",
       "    </tr>\n",
       "    <tr>\n",
       "      <th>209670</th>\n",
       "      <td>571</td>\n",
       "      <td>2.82</td>\n",
       "      <td>1</td>\n",
       "      <td>63.75</td>\n",
       "      <td>0</td>\n",
       "      <td>6.000</td>\n",
       "      <td>0</td>\n",
       "    </tr>\n",
       "    <tr>\n",
       "      <th>209671</th>\n",
       "      <td>491</td>\n",
       "      <td>2.16</td>\n",
       "      <td>1</td>\n",
       "      <td>56.25</td>\n",
       "      <td>0</td>\n",
       "      <td>13.500</td>\n",
       "      <td>0</td>\n",
       "    </tr>\n",
       "    <tr>\n",
       "      <th>209672</th>\n",
       "      <td>3614</td>\n",
       "      <td>33.72</td>\n",
       "      <td>1</td>\n",
       "      <td>337.50</td>\n",
       "      <td>0</td>\n",
       "      <td>2.250</td>\n",
       "      <td>0</td>\n",
       "    </tr>\n",
       "  </tbody>\n",
       "</table>\n",
       "<p>209673 rows × 7 columns</p>\n",
       "</div>"
      ],
      "text/plain": [
       "        trip_duration  distance_traveled  num_of_passengers    fare  tip  \\\n",
       "0                 748               2.75                  1   75.00   24   \n",
       "1                1187               3.43                  1  105.00   24   \n",
       "2                 730               3.12                  1   71.25    0   \n",
       "3                 671               5.63                  3   90.00    0   \n",
       "4                 329               2.09                  1   45.00   12   \n",
       "...               ...                ...                ...     ...  ...   \n",
       "209668           1617               8.42                  1  150.00   47   \n",
       "209669            438               1.29                  1   48.75   12   \n",
       "209670            571               2.82                  1   63.75    0   \n",
       "209671            491               2.16                  1   56.25    0   \n",
       "209672           3614              33.72                  1  337.50    0   \n",
       "\n",
       "        miscellaneous_fees  surge_applied  \n",
       "0                    6.300              0  \n",
       "1                   13.200              0  \n",
       "2                   26.625              1  \n",
       "3                    9.750              0  \n",
       "4                   13.200              0  \n",
       "...                    ...            ...  \n",
       "209668               5.800              0  \n",
       "209669              34.575              1  \n",
       "209670               6.000              0  \n",
       "209671              13.500              0  \n",
       "209672               2.250              0  \n",
       "\n",
       "[209673 rows x 7 columns]"
      ]
     },
     "execution_count": 32,
     "metadata": {},
     "output_type": "execute_result"
    }
   ],
   "source": [
    "df"
   ]
  },
  {
   "cell_type": "code",
   "execution_count": 33,
   "id": "ebe8e0e2",
   "metadata": {},
   "outputs": [],
   "source": [
    "df = df[df['fare'] <= 250]"
   ]
  },
  {
   "cell_type": "code",
   "execution_count": 34,
   "id": "42c0d395",
   "metadata": {},
   "outputs": [],
   "source": [
    "df = df[df['distance_traveled'] <= 150]"
   ]
  },
  {
   "cell_type": "code",
   "execution_count": 35,
   "id": "d1629411",
   "metadata": {},
   "outputs": [],
   "source": [
    "df = df[df['miscellaneous_fees'] <= 300]"
   ]
  },
  {
   "cell_type": "code",
   "execution_count": 36,
   "id": "465f2847",
   "metadata": {},
   "outputs": [],
   "source": [
    "df = df[df['tip'] <= 1000]"
   ]
  },
  {
   "cell_type": "markdown",
   "id": "d5301f5a",
   "metadata": {},
   "source": [
    "Removed 10 raws which has extreme values "
   ]
  },
  {
   "cell_type": "code",
   "execution_count": 37,
   "id": "2bd68a8e",
   "metadata": {},
   "outputs": [
    {
     "data": {
      "text/plain": [
       "(200764, 7)"
      ]
     },
     "execution_count": 37,
     "metadata": {},
     "output_type": "execute_result"
    }
   ],
   "source": [
    "df.shape"
   ]
  },
  {
   "cell_type": "markdown",
   "id": "cc6f7fdb",
   "metadata": {},
   "source": [
    "## 2) Checked Linearity between independent var. and dependent var."
   ]
  },
  {
   "cell_type": "code",
   "execution_count": 38,
   "id": "1bf5e154",
   "metadata": {
    "scrolled": true
   },
   "outputs": [
    {
     "data": {
      "image/png": "[encoded data removed]",
      "text/plain": [
       "<Figure size 640x480 with 1 Axes>"
      ]
     },
     "metadata": {},
     "output_type": "display_data"
    },
    {
     "data": {
      "image/png": "[encoded data removed]",
      "text/plain": [
       "<Figure size 640x480 with 1 Axes>"
      ]
     },
     "metadata": {},
     "output_type": "display_data"
    },
    {
     "data": {
      "image/png": "[encoded data removed]",
      "text/plain": [
       "<Figure size 640x480 with 1 Axes>"
      ]
     },
     "metadata": {},
     "output_type": "display_data"
    },
    {
     "data": {
      "image/png": "[encoded data removed]",
      "text/plain": [
       "<Figure size 640x480 with 1 Axes>"
      ]
     },
     "metadata": {},
     "output_type": "display_data"
    }
   ],
   "source": [
    "import matplotlib.pyplot as plt\n",
    "\n",
    "# Select the features for scatter plots\n",
    "features = ['trip_duration', 'distance_traveled','miscellaneous_fees','tip']\n",
    "\n",
    "# Generate scatter plots\n",
    "for feature in features:\n",
    "    plt.scatter(df[feature], df['fare'])\n",
    "    plt.xlabel(feature)\n",
    "    plt.ylabel('fare')\n",
    "    plt.title(f'Scatter plot: {feature} vs fare')\n",
    "    plt.show()\n"
   ]
  },
  {
   "cell_type": "code",
   "execution_count": 39,
   "id": "8f76e450",
   "metadata": {},
   "outputs": [],
   "source": [
    "X=df.drop('fare',axis=1)\n",
    "y=df.fare"
   ]
  },
  {
   "cell_type": "code",
   "execution_count": 40,
   "id": "d0ee115c",
   "metadata": {},
   "outputs": [
    {
     "data": {
      "text/html": [
       "<div>\n",
       "<style scoped>\n",
       "    .dataframe tbody tr th:only-of-type {\n",
       "        vertical-align: middle;\n",
       "    }\n",
       "\n",
       "    .dataframe tbody tr th {\n",
       "        vertical-align: top;\n",
       "    }\n",
       "\n",
       "    .dataframe thead th {\n",
       "        text-align: right;\n",
       "    }\n",
       "</style>\n",
       "<table border=\"1\" class=\"dataframe\">\n",
       "  <thead>\n",
       "    <tr style=\"text-align: right;\">\n",
       "      <th></th>\n",
       "      <th>trip_duration</th>\n",
       "      <th>distance_traveled</th>\n",
       "      <th>num_of_passengers</th>\n",
       "      <th>tip</th>\n",
       "      <th>miscellaneous_fees</th>\n",
       "      <th>surge_applied</th>\n",
       "    </tr>\n",
       "  </thead>\n",
       "  <tbody>\n",
       "    <tr>\n",
       "      <th>0</th>\n",
       "      <td>748</td>\n",
       "      <td>2.75</td>\n",
       "      <td>1</td>\n",
       "      <td>24</td>\n",
       "      <td>6.300</td>\n",
       "      <td>0</td>\n",
       "    </tr>\n",
       "    <tr>\n",
       "      <th>1</th>\n",
       "      <td>1187</td>\n",
       "      <td>3.43</td>\n",
       "      <td>1</td>\n",
       "      <td>24</td>\n",
       "      <td>13.200</td>\n",
       "      <td>0</td>\n",
       "    </tr>\n",
       "    <tr>\n",
       "      <th>2</th>\n",
       "      <td>730</td>\n",
       "      <td>3.12</td>\n",
       "      <td>1</td>\n",
       "      <td>0</td>\n",
       "      <td>26.625</td>\n",
       "      <td>1</td>\n",
       "    </tr>\n",
       "    <tr>\n",
       "      <th>3</th>\n",
       "      <td>671</td>\n",
       "      <td>5.63</td>\n",
       "      <td>3</td>\n",
       "      <td>0</td>\n",
       "      <td>9.750</td>\n",
       "      <td>0</td>\n",
       "    </tr>\n",
       "    <tr>\n",
       "      <th>4</th>\n",
       "      <td>329</td>\n",
       "      <td>2.09</td>\n",
       "      <td>1</td>\n",
       "      <td>12</td>\n",
       "      <td>13.200</td>\n",
       "      <td>0</td>\n",
       "    </tr>\n",
       "    <tr>\n",
       "      <th>...</th>\n",
       "      <td>...</td>\n",
       "      <td>...</td>\n",
       "      <td>...</td>\n",
       "      <td>...</td>\n",
       "      <td>...</td>\n",
       "      <td>...</td>\n",
       "    </tr>\n",
       "    <tr>\n",
       "      <th>209667</th>\n",
       "      <td>354</td>\n",
       "      <td>1.24</td>\n",
       "      <td>1</td>\n",
       "      <td>0</td>\n",
       "      <td>6.000</td>\n",
       "      <td>0</td>\n",
       "    </tr>\n",
       "    <tr>\n",
       "      <th>209668</th>\n",
       "      <td>1617</td>\n",
       "      <td>8.42</td>\n",
       "      <td>1</td>\n",
       "      <td>47</td>\n",
       "      <td>5.800</td>\n",
       "      <td>0</td>\n",
       "    </tr>\n",
       "    <tr>\n",
       "      <th>209669</th>\n",
       "      <td>438</td>\n",
       "      <td>1.29</td>\n",
       "      <td>1</td>\n",
       "      <td>12</td>\n",
       "      <td>34.575</td>\n",
       "      <td>1</td>\n",
       "    </tr>\n",
       "    <tr>\n",
       "      <th>209670</th>\n",
       "      <td>571</td>\n",
       "      <td>2.82</td>\n",
       "      <td>1</td>\n",
       "      <td>0</td>\n",
       "      <td>6.000</td>\n",
       "      <td>0</td>\n",
       "    </tr>\n",
       "    <tr>\n",
       "      <th>209671</th>\n",
       "      <td>491</td>\n",
       "      <td>2.16</td>\n",
       "      <td>1</td>\n",
       "      <td>0</td>\n",
       "      <td>13.500</td>\n",
       "      <td>0</td>\n",
       "    </tr>\n",
       "  </tbody>\n",
       "</table>\n",
       "<p>200764 rows × 6 columns</p>\n",
       "</div>"
      ],
      "text/plain": [
       "        trip_duration  distance_traveled  num_of_passengers  tip  \\\n",
       "0                 748               2.75                  1   24   \n",
       "1                1187               3.43                  1   24   \n",
       "2                 730               3.12                  1    0   \n",
       "3                 671               5.63                  3    0   \n",
       "4                 329               2.09                  1   12   \n",
       "...               ...                ...                ...  ...   \n",
       "209667            354               1.24                  1    0   \n",
       "209668           1617               8.42                  1   47   \n",
       "209669            438               1.29                  1   12   \n",
       "209670            571               2.82                  1    0   \n",
       "209671            491               2.16                  1    0   \n",
       "\n",
       "        miscellaneous_fees  surge_applied  \n",
       "0                    6.300              0  \n",
       "1                   13.200              0  \n",
       "2                   26.625              1  \n",
       "3                    9.750              0  \n",
       "4                   13.200              0  \n",
       "...                    ...            ...  \n",
       "209667               6.000              0  \n",
       "209668               5.800              0  \n",
       "209669              34.575              1  \n",
       "209670               6.000              0  \n",
       "209671              13.500              0  \n",
       "\n",
       "[200764 rows x 6 columns]"
      ]
     },
     "execution_count": 40,
     "metadata": {},
     "output_type": "execute_result"
    }
   ],
   "source": [
    "X"
   ]
  },
  {
   "cell_type": "markdown",
   "id": "bf2784d4",
   "metadata": {},
   "source": [
    "### Fitted Linear Model"
   ]
  },
  {
   "cell_type": "code",
   "execution_count": 41,
   "id": "6c006313",
   "metadata": {},
   "outputs": [
    {
     "name": "stdout",
     "output_type": "stream",
     "text": [
      "Mean Squared Error: 473.9862800631787\n",
      "R-squared: 0.788189612235179\n",
      "Coefficient for trip_duration: 0.000263147150184384\n",
      "Coefficient for distance_traveled: 12.314141055417023\n",
      "Coefficient for num_of_passengers: 0.06121864994252361\n",
      "Coefficient for tip: 0.13804069228556934\n",
      "Coefficient for miscellaneous_fees: -0.22298808542042425\n",
      "Coefficient for surge_applied: 9.05365046343111\n"
     ]
    }
   ],
   "source": [
    "# Split the data into training and testing sets\n",
    "X_train, X_test, y_train, y_test = train_test_split(X, y, test_size=0.2, random_state=42)\n",
    "\n",
    "# Create a Linear Regression model\n",
    "model = LinearRegression()\n",
    "\n",
    "# Fit the model to the training data\n",
    "model.fit(X_train, y_train)\n",
    "\n",
    "# Make predictions on the testing data\n",
    "y_pred = model.predict(X_test)\n",
    "\n",
    "# Calculate the mean squared error\n",
    "mse = mean_squared_error(y_test, y_pred)\n",
    "print(\"Mean Squared Error:\", mse)\n",
    "r2 = r2_score(y_test, y_pred)\n",
    "print('R-squared:', r2)\n",
    "coefficients = model.coef_\n",
    "# Print the coefficients\n",
    "for i, feature_name in enumerate(X.columns):\n",
    "    print(f\"Coefficient for {feature_name}: {coefficients[i]}\")"
   ]
  },
  {
   "cell_type": "markdown",
   "id": "8cbfaebd",
   "metadata": {},
   "source": [
    "### 3) Checked homoscedasticity"
   ]
  },
  {
   "cell_type": "code",
   "execution_count": 42,
   "id": "3c0ac511",
   "metadata": {},
   "outputs": [
    {
     "data": {
      "image/png": "[encoded data removed]",
      "text/plain": [
       "<Figure size 640x480 with 1 Axes>"
      ]
     },
     "metadata": {},
     "output_type": "display_data"
    }
   ],
   "source": [
    "residuals = y_test - y_pred\n",
    "\n",
    "# Generate the residual plot\n",
    "plt.scatter(y_pred, residuals)\n",
    "plt.axhline(y=0, color='r', linestyle='--')\n",
    "plt.xlabel('Predicted Values')\n",
    "plt.ylabel('Residuals')\n",
    "plt.title('Residual Plot')\n",
    "plt.show()"
   ]
  },
  {
   "cell_type": "markdown",
   "id": "fd9863d2",
   "metadata": {},
   "source": [
    "### 4) Checked Normality"
   ]
  },
  {
   "cell_type": "code",
   "execution_count": 43,
   "id": "4176e075",
   "metadata": {
    "scrolled": false
   },
   "outputs": [
    {
     "data": {
      "image/png": "[encoded data removed]",
      "text/plain": [
       "<Figure size 640x480 with 1 Axes>"
      ]
     },
     "metadata": {},
     "output_type": "display_data"
    }
   ],
   "source": [
    "# Plotting normality: Histogram of residuals\n",
    "sns.histplot(residuals, kde=True)\n",
    "plt.xlabel('Residuals')\n",
    "plt.ylabel('Frequency')\n",
    "plt.title('Normality: Residual Distribution (Test Set)')\n",
    "plt.show()\n"
   ]
  },
  {
   "cell_type": "code",
   "execution_count": 53,
   "id": "bd1c26f0",
   "metadata": {},
   "outputs": [
    {
     "name": "stdout",
     "output_type": "stream",
     "text": [
      "Average Mean Squared Error: 482.82263130166746\n"
     ]
    }
   ],
   "source": [
    "model = LinearRegression()\n",
    "\n",
    "# Perform cross-validation\n",
    "cv_scores = cross_val_score(model, X, y, cv=5, scoring='neg_mean_squared_error')\n",
    "\n",
    "# Convert negative mean squared errors to positive\n",
    "mse_scores = -cv_scores\n",
    "\n",
    "# Calculate the average mean squared error across folds\n",
    "avg_mse = mse_scores.mean()\n",
    "\n",
    "# Print the average mean squared error\n",
    "print(\"Average Mean Squared Error:\", avg_mse)"
   ]
  },
  {
   "cell_type": "markdown",
   "id": "fed24fe2",
   "metadata": {},
   "source": [
    "### Used RFE and SFS for select best features"
   ]
  },
  {
   "cell_type": "code",
   "execution_count": 45,
   "id": "e63cacd7",
   "metadata": {},
   "outputs": [
    {
     "name": "stdout",
     "output_type": "stream",
     "text": [
      "Selected Features (SFS): ['distance_traveled', 'tip', 'surge_applied']\n",
      "Selected Features (RFE): ['distance_traveled', 'miscellaneous_fees', 'surge_applied']\n"
     ]
    }
   ],
   "source": [
    "import pandas as pd\n",
    "from sklearn.feature_selection import SequentialFeatureSelector, RFE\n",
    "from sklearn.linear_model import LinearRegression\n",
    "\n",
    "# Sequential Feature Selection (SFS)\n",
    "sfs = SequentialFeatureSelector(LinearRegression(), n_features_to_select=3)\n",
    "X_sfs = sfs.fit_transform(X, y)\n",
    "selected_features_sfs = X.columns[sfs.get_support(indices=True)].tolist()\n",
    "print(\"Selected Features (SFS):\", selected_features_sfs)\n",
    "\n",
    "# Recursive Feature Elimination (RFE)\n",
    "rfe = RFE(LinearRegression(), n_features_to_select=3)\n",
    "X_rfe = rfe.fit_transform(X, y)\n",
    "selected_features_rfe = X.columns[rfe.get_support(indices=True)].tolist()\n",
    "print(\"Selected Features (RFE):\", selected_features_rfe)\n"
   ]
  },
  {
   "cell_type": "code",
   "execution_count": 46,
   "id": "28ac01d1",
   "metadata": {},
   "outputs": [
    {
     "name": "stdout",
     "output_type": "stream",
     "text": [
      "Average Mean Squared Error: 476.5296807431325\n"
     ]
    }
   ],
   "source": [
    "X = df[['trip_duration', 'distance_traveled', 'tip']]\n",
    "y = df['fare']\n",
    "\n",
    "model = LinearRegression()\n",
    "\n",
    "# Perform cross-validation\n",
    "cv_scores = cross_val_score(model, X, y, cv=5, scoring='neg_mean_squared_error')\n",
    "\n",
    "# Convert negative mean squared errors to positive\n",
    "mse_scores = -cv_scores\n",
    "\n",
    "# Calculate the average mean squared error across folds\n",
    "avg_mse = mse_scores.mean()\n",
    "\n",
    "# Print the average mean squared error\n",
    "print(\"Average Mean Squared Error:\", avg_mse)"
   ]
  },
  {
   "cell_type": "code",
   "execution_count": 47,
   "id": "e1a34ada",
   "metadata": {},
   "outputs": [
    {
     "name": "stdout",
     "output_type": "stream",
     "text": [
      "Average Mean Squared Error: 482.82263130166746\n"
     ]
    }
   ],
   "source": [
    "X = df[['distance_traveled', 'num_of_passengers', 'miscellaneous_fees']]\n",
    "y = df['fare']\n",
    "\n",
    "model = LinearRegression()\n",
    "\n",
    "# Perform cross-validation\n",
    "cv_scores = cross_val_score(model, X, y, cv=5, scoring='neg_mean_squared_error')\n",
    "\n",
    "# Convert negative mean squared errors to positive\n",
    "mse_scores = -cv_scores\n",
    "\n",
    "# Calculate the average mean squared error across folds\n",
    "avg_mse = mse_scores.mean()\n",
    "\n",
    "# Print the average mean squared error\n",
    "print(\"Average Mean Squared Error:\", avg_mse)"
   ]
  },
  {
   "cell_type": "markdown",
   "id": "f49769da",
   "metadata": {},
   "source": [
    "### Error Curve for find best K in KNN"
   ]
  },
  {
   "cell_type": "code",
   "execution_count": null,
   "id": "f669bc6a",
   "metadata": {},
   "outputs": [],
   "source": [
    "# Define a range of K values to evaluate\n",
    "k_values = range(1, 30)\n",
    "\n",
    "# Initialize empty lists to store the error values\n",
    "mse_values = []\n",
    "\n",
    "# Iterate over each K value\n",
    "for k in k_values:\n",
    "    # Create the KNN regressor\n",
    "    regressor = KNeighborsRegressor(n_neighbors=k)\n",
    "    \n",
    "    # Train the model\n",
    "    regressor.fit(X_train, y_train)\n",
    "    \n",
    "    # Make predictions on the testing set\n",
    "    y_pred = regressor.predict(X_test)\n",
    "    \n",
    "    # Calculate the mean squared error\n",
    "    mse = mean_squared_error(y_test, y_pred)\n",
    "    mse_values.append(mse)\n",
    "\n",
    "\n",
    "# Plot the error curve\n",
    "plt.plot(k_values, mse_values, label='Mean Squared Error')\n",
    "plt.xlabel('K')\n",
    "plt.ylabel('Error')\n",
    "plt.title('Error Curve for KNN Regression')\n",
    "plt.legend()\n",
    "plt.show()\n",
    "\n",
    "# Find the best K value with the lowest error\n",
    "best_k = k_values[np.argmin(mse_values)]\n",
    "print('Best K:', best_k)\n"
   ]
  },
  {
   "cell_type": "code",
   "execution_count": 65,
   "id": "ad6a2675",
   "metadata": {},
   "outputs": [
    {
     "name": "stdout",
     "output_type": "stream",
     "text": [
      "Mean Squared Error: 269.74154250036145\n",
      "R-squared: 0.8794605179169596\n"
     ]
    }
   ],
   "source": [
    "from sklearn.neighbors import KNeighborsRegressor\n",
    "\n",
    "# Create the KNN regressor\n",
    "regressor = KNeighborsRegressor(n_neighbors=26)\n",
    "\n",
    "# Train the model\n",
    "regressor.fit(X_train, y_train)\n",
    "\n",
    "# Make predictions on the testing set\n",
    "y_pred = regressor.predict(X_test)\n",
    "\n",
    "# Evaluate the model\n",
    "mse = mean_squared_error(y_test, y_pred)\n",
    "print('Mean Squared Error:', mse)\n",
    "r2 = r2_score(y_test, y_pred)\n",
    "print('R-squared:', r2)\n"
   ]
  },
  {
   "cell_type": "markdown",
   "id": "4f9c4f60",
   "metadata": {},
   "source": [
    "## DecisionTree Regressor"
   ]
  },
  {
   "cell_type": "code",
   "execution_count": 50,
   "id": "5b73b1ea",
   "metadata": {},
   "outputs": [
    {
     "name": "stdout",
     "output_type": "stream",
     "text": [
      "Mean Squared Error: 367.83341551474626\n",
      "R-squared: 0.8356261738996917\n"
     ]
    }
   ],
   "source": [
    "regressor = DecisionTreeRegressor()\n",
    "\n",
    "# Train the model\n",
    "regressor.fit(X_train, y_train)\n",
    "\n",
    "# Make predictions on the testing set\n",
    "y_pred = regressor.predict(X_test)\n",
    "\n",
    "# Evaluate the model\n",
    "mse = mean_squared_error(y_test, y_pred)\n",
    "print('Mean Squared Error:', mse)\n",
    "r2 = r2_score(y_test, y_pred)\n",
    "print('R-squared:', r2) "
   ]
  },
  {
   "cell_type": "markdown",
   "id": "7d79d3e5",
   "metadata": {},
   "source": [
    "<!-- ## RandomForest Regressor -->"
   ]
  },
  {
   "cell_type": "code",
   "execution_count": 51,
   "id": "5f201968",
   "metadata": {},
   "outputs": [
    {
     "name": "stdout",
     "output_type": "stream",
     "text": [
      "const: 0.0\n",
      "distance_traveled: 0.9447524120242563\n",
      "num_of_passengers: 0.007088846642569564\n",
      "miscellaneous_fees: 0.048158741333174195\n"
     ]
    }
   ],
   "source": [
    "importance = regressor.feature_importances_\n",
    "\n",
    "# Print the feature importance scores\n",
    "for feature, score in zip(X_train.columns, importance):\n",
    "    print(f\"{feature}: {score}\")"
   ]
  },
  {
   "cell_type": "markdown",
   "id": "84ea7e67",
   "metadata": {},
   "source": [
    "## Conclusion:"
   ]
  },
  {
   "cell_type": "markdown",
   "id": "c4988d86",
   "metadata": {},
   "source": [
    "#### Without removing outlier Linear model gave low R2 but decision tree gives good R2 \n"
   ]
  },
  {
   "cell_type": "markdown",
   "id": "13ae6847",
   "metadata": {},
   "source": [
    "#### Linear regression is sensitive to outlier but decision tree is not sensitive ."
   ]
  },
  {
   "cell_type": "code",
   "execution_count": null,
   "id": "3fa70315",
   "metadata": {},
   "outputs": [],
   "source": []
  }
 ],
 "metadata": {
  "kernelspec": {
   "display_name": "Python 3 (ipykernel)",
   "language": "python",
   "name": "python3"
  },
  "language_info": {
   "codemirror_mode": {
    "name": "ipython",
    "version": 3
   },
   "file_extension": ".py",
   "mimetype": "text/x-python",
   "name": "python",
   "nbconvert_exporter": "python",
   "pygments_lexer": "ipython3",
   "version": "3.9.13"
  }
 },
 "nbformat": 4,
 "nbformat_minor": 5
}
